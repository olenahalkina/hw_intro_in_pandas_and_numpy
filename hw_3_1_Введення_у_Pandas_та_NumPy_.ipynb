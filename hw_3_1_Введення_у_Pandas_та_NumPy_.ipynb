{
 "cells": [
  {
   "cell_type": "markdown",
   "metadata": {
    "id": "6bbb4b6a"
   },
   "source": [
    "# Домашнє завдання до теми \"Введення у Pandas та NumPy\""
   ]
  },
  {
   "cell_type": "markdown",
   "metadata": {
    "id": "7ef4e602"
   },
   "source": [
    "У домашніх завданнях цього модулю ми працюємо з набором даних про продажі в різних магазинах мережі супермаркетів.\n",
    "\n",
    "## Контекст даних\n",
    "Зростання супермаркетів у найбільш населених містах збільшується, а конкуренція на ринку також висока. Набір даних є вигрузкою історичних продажів компанії-мережі супермаркетів у 3х різних філіях протягом 3 місяців.\n",
    "\n",
    "**Ціль:** Цей набір даних може бути використаний для цілей розуміння тенденцій продажів, які товари в якому місті варто продавати, а поставку яких - варто скоротити. На основі цих даних можна оцінити майбутні тенденції продажів, оцінити поведінку споживачів та оптимізувати стратегію продажів.\n",
    "\n",
    "Ми будемо робити елементи аналізу в цьому напрямі.\n",
    "\n",
    "## Опис даних\n",
    "\n",
    "| Назва оригінальна           | Переклад назви             | Опис українською                                                                                       |\n",
    "|---------------------------|--------------------------|-----------------------------------------------------------------------------------------------------|\n",
    "| Invoice id                | Ідентифікатор чека       | Комп’ютерно генерований номер ідентифікації чека продажу                                             |\n",
    "| Branch                    | Філія                    | Філія супермаркету (доступні 3 філії, ідентифіковані як A, B та C)                                     |\n",
    "| City                      | Місто                    | Місцезнаходження суперцентрів                                                                        |\n",
    "| Customer type             | Тип клієнта              | Тип клієнтів, зафіксований як Члени для клієнтів, що використовують картку члена, та Звичайні без картки |\n",
    "| Gender                    | Стать                    | Стать покупця                                                                                       |\n",
    "| Product line              | Лінійка продуктів        | Загальні групи категоризації товарів - Електронні аксесуари, Модні аксесуари, Їжа та напої, Здоров’я та краса, Дім і стиль життя, Спорт та подорожі |\n",
    "| Unit price                | Ціна за одиницю          | Ціна кожного продукту в доларах США                                                                  |\n",
    "| Quantity                  | Кількість                | Кількість продуктів, придбаних клієнтом                                                             |\n",
    "| Tax                       | Податок                  | 5% податковий збір для покупця                                                                       |\n",
    "| Total                     | Загальна сума            | Загальна ціна з урахуванням податку                                                                  |\n",
    "| Date                      | Дата                     | Дата покупки (Дані доступні з січня 2019 по березень 2019)                                           |\n",
    "| Time                      | Час                      | Час покупки (з 10:00 до 21:00)                                                                       |\n",
    "| Payment                   | Оплата                   | Метод оплати, використаний клієнтом для покупки (доступні 3 методи – Готівка, Кредитна картка та Електронний гаманець) |\n",
    "| COGS                      | Собівартість проданих товарів | Собівартість проданих товарів                                                                      |\n",
    "| Gross margin percentage   | Відсоток валового прибутку | Відсоток валового прибутку                                                                         |\n",
    "| Gross income              | Валовий дохід            | Валовий дохід                                                                                       |\n",
    "| Rating                    | Рейтинг                  | Рейтинг задоволення клієнтів від загального досвіду покупок (На шкалі від 1 до 10)                    |\n",
    "\n",
    "\n",
    "## Робота з даними в рамках завдань цього модулю\n",
    "\n",
    "Завантажте дані з навчальної платформи собі локально. Як найркаще організувати збереження даних і ноутбуків було наведено в лекції. Якщо Ви працюєте в Colab - то рекомендую або розмістити дані у себе на диску і підключити диск (`Files` -> `Mount Drive`) або перетягнути дані в `Files` на робочу сесію і читати звідти.\n",
    "\n",
    "Дані ми НЕ заливаємо зазвичай в git, особливо якщо вони більше 10мб - це погана практика. Ліпше залити на гугл диск і дати посилання в репозиторії в readme.md файлі, якщо дані великі. Саме так рекомендую робити для проєктів з портфоліо.\n",
    "\n",
    "У домашніх завданнях цього модуля особливо важливо **уважно** читати формулювання завдання і всі коментарі. Також у цьому модулі треба по максимуму використовувати функціонал бібліотеки pandas, навіть якщо існують альтернативні способи зробити те саме. Нагадую, що працюючи з pandas ми здебільшого НЕ потребуємо використовувати цикли для створення колонки - для цього є інші, більш загальноприйняті методи, розглянуті в лекції.\n"
   ]
  },
  {
   "cell_type": "markdown",
   "metadata": {
    "id": "39qzN0NZAPFm"
   },
   "source": [
    "1. Імпортуйте бібліотеку pandas в загальноприйнятому форматі."
   ]
  },
  {
   "cell_type": "code",
   "execution_count": 1,
   "metadata": {
    "id": "jA1fRzz4AOsE"
   },
   "outputs": [],
   "source": [
    "import numpy as np\n",
    "import pandas as pd"
   ]
  },
  {
   "cell_type": "markdown",
   "metadata": {
    "ExecuteTime": {
     "end_time": "2021-09-20T19:43:50.443031Z",
     "start_time": "2021-09-20T19:43:50.439600Z"
    },
    "id": "fd7f076b"
   },
   "source": [
    "2. За допомогою бібліотеки Pandas, викликом однієї функції зчитайте набір даних із файлу `supermarket_sales.csv` в змінну `df` типу `pandas.DataFrame`.\n",
    "Виведіть тип даних змінної `df`."
   ]
  },
  {
   "cell_type": "code",
   "execution_count": 3,
   "metadata": {
    "id": "0kbbVMM1ATsk"
   },
   "outputs": [
    {
     "data": {
      "text/plain": [
       "['supermarket_sales.csv']"
      ]
     },
     "execution_count": 3,
     "metadata": {},
     "output_type": "execute_result"
    }
   ],
   "source": [
    "import os\n",
    "os.listdir('../data/')"
   ]
  },
  {
   "cell_type": "code",
   "execution_count": 6,
   "metadata": {
    "id": "0kbbVMM1ATsk"
   },
   "outputs": [
    {
     "name": "stdout",
     "output_type": "stream",
     "text": [
      "hw_3_1_Введення_у_Pandas_та_NumPy_.ipynb\n"
     ]
    }
   ],
   "source": [
    "ls"
   ]
  },
  {
   "cell_type": "code",
   "execution_count": 5,
   "metadata": {
    "id": "0kbbVMM1ATsk"
   },
   "outputs": [],
   "source": [
    "data_path = '../data/supermarket_sales.csv'\n",
    "df = pd.read_csv(data_path)"
   ]
  },
  {
   "cell_type": "code",
   "execution_count": 7,
   "metadata": {},
   "outputs": [
    {
     "data": {
      "text/plain": [
       "pandas.core.frame.DataFrame"
      ]
     },
     "execution_count": 7,
     "metadata": {},
     "output_type": "execute_result"
    }
   ],
   "source": [
    "type(df)"
   ]
  },
  {
   "cell_type": "code",
   "execution_count": 18,
   "metadata": {},
   "outputs": [],
   "source": [
    "df_shape = df.shape"
   ]
  },
  {
   "cell_type": "code",
   "execution_count": 21,
   "metadata": {},
   "outputs": [
    {
     "data": {
      "text/plain": [
       "1000"
      ]
     },
     "execution_count": 21,
     "metadata": {},
     "output_type": "execute_result"
    }
   ],
   "source": [
    "df_shape[0]"
   ]
  },
  {
   "cell_type": "markdown",
   "metadata": {
    "ExecuteTime": {
     "end_time": "2022-11-01T16:51:38.594974Z",
     "start_time": "2022-11-01T16:51:38.591423Z"
    },
    "id": "33661c15"
   },
   "source": [
    "3. Виведіть кількість рядків і кількість колонок в наборі даних. Відповідь сформуйте використовуючи fstring у наступному форматі: `Набір даних містить 1000 рядків та 17 колонок`"
   ]
  },
  {
   "cell_type": "code",
   "execution_count": 28,
   "metadata": {
    "ExecuteTime": {
     "end_time": "2022-11-01T16:54:59.887783Z",
     "start_time": "2022-11-01T16:54:59.884323Z"
    },
    "id": "bac0cbfc"
   },
   "outputs": [
    {
     "name": "stdout",
     "output_type": "stream",
     "text": [
      "Набір даних містить 1000 рядків та 17 колонок\n"
     ]
    }
   ],
   "source": [
    "num_rows = df.shape[0]\n",
    "num_cols = df.shape[1]\n",
    "response_string = f\"Набір даних містить {num_rows} рядків та {num_cols} колонок\"\n",
    "print(response_string)"
   ]
  },
  {
   "cell_type": "markdown",
   "metadata": {
    "id": "4i5dUphZ_JxM"
   },
   "source": [
    "4. Скільки оперативної памʼяті у мегабайтах займає даний набір даних? Обчисліть за допомогою pandas і виведіть на екран."
   ]
  },
  {
   "cell_type": "code",
   "execution_count": 23,
   "metadata": {
    "id": "kwoNKAr-_JDf"
   },
   "outputs": [
    {
     "data": {
      "text/plain": [
       "Index                       128\n",
       "Invoice ID                 8000\n",
       "Branch                     8000\n",
       "City                       8000\n",
       "Customer type              8000\n",
       "Gender                     8000\n",
       "Product line               8000\n",
       "Unit price                 8000\n",
       "Quantity                   8000\n",
       "Tax 5%                     8000\n",
       "Total                      8000\n",
       "Date                       8000\n",
       "Time                       8000\n",
       "Payment                    8000\n",
       "cogs                       8000\n",
       "gross margin percentage    8000\n",
       "gross income               8000\n",
       "Rating                     8000\n",
       "dtype: int64"
      ]
     },
     "execution_count": 23,
     "metadata": {},
     "output_type": "execute_result"
    }
   ],
   "source": [
    "df.memory_usage()"
   ]
  },
  {
   "cell_type": "code",
   "execution_count": 24,
   "metadata": {},
   "outputs": [
    {
     "data": {
      "text/plain": [
       "np.int64(136128)"
      ]
     },
     "execution_count": 24,
     "metadata": {},
     "output_type": "execute_result"
    }
   ],
   "source": [
    "df.memory_usage().sum()"
   ]
  },
  {
   "cell_type": "code",
   "execution_count": 26,
   "metadata": {},
   "outputs": [
    {
     "data": {
      "text/plain": [
       "np.float64(0.12982177734375)"
      ]
     },
     "execution_count": 26,
     "metadata": {},
     "output_type": "execute_result"
    }
   ],
   "source": [
    "total_bytes = df.memory_usage().sum()\n",
    "total_megabytes = total_bytes / (1024 * 1024)\n",
    "total_megabytes"
   ]
  },
  {
   "cell_type": "code",
   "execution_count": 27,
   "metadata": {},
   "outputs": [
    {
     "data": {
      "text/html": [
       "<div>\n",
       "<style scoped>\n",
       "    .dataframe tbody tr th:only-of-type {\n",
       "        vertical-align: middle;\n",
       "    }\n",
       "\n",
       "    .dataframe tbody tr th {\n",
       "        vertical-align: top;\n",
       "    }\n",
       "\n",
       "    .dataframe thead th {\n",
       "        text-align: right;\n",
       "    }\n",
       "</style>\n",
       "<table border=\"1\" class=\"dataframe\">\n",
       "  <thead>\n",
       "    <tr style=\"text-align: right;\">\n",
       "      <th></th>\n",
       "      <th>Invoice ID</th>\n",
       "      <th>Branch</th>\n",
       "      <th>City</th>\n",
       "      <th>Customer type</th>\n",
       "      <th>Gender</th>\n",
       "      <th>Product line</th>\n",
       "      <th>Unit price</th>\n",
       "      <th>Quantity</th>\n",
       "      <th>Tax 5%</th>\n",
       "      <th>Total</th>\n",
       "      <th>Date</th>\n",
       "      <th>Time</th>\n",
       "      <th>Payment</th>\n",
       "      <th>cogs</th>\n",
       "      <th>gross margin percentage</th>\n",
       "      <th>gross income</th>\n",
       "      <th>Rating</th>\n",
       "    </tr>\n",
       "  </thead>\n",
       "  <tbody>\n",
       "    <tr>\n",
       "      <th>0</th>\n",
       "      <td>750-67-8428</td>\n",
       "      <td>A</td>\n",
       "      <td>Yangon</td>\n",
       "      <td>Member</td>\n",
       "      <td>Female</td>\n",
       "      <td>Health and beauty</td>\n",
       "      <td>74.69</td>\n",
       "      <td>7</td>\n",
       "      <td>26.1415</td>\n",
       "      <td>548.9715</td>\n",
       "      <td>1/5/2019</td>\n",
       "      <td>13:08</td>\n",
       "      <td>Ewallet</td>\n",
       "      <td>522.83</td>\n",
       "      <td>4.761905</td>\n",
       "      <td>26.1415</td>\n",
       "      <td>9.1</td>\n",
       "    </tr>\n",
       "    <tr>\n",
       "      <th>1</th>\n",
       "      <td>226-31-3081</td>\n",
       "      <td>C</td>\n",
       "      <td>Naypyitaw</td>\n",
       "      <td>Normal</td>\n",
       "      <td>Female</td>\n",
       "      <td>Electronic accessories</td>\n",
       "      <td>15.28</td>\n",
       "      <td>5</td>\n",
       "      <td>3.8200</td>\n",
       "      <td>80.2200</td>\n",
       "      <td>3/8/2019</td>\n",
       "      <td>10:29</td>\n",
       "      <td>Cash</td>\n",
       "      <td>76.40</td>\n",
       "      <td>4.761905</td>\n",
       "      <td>3.8200</td>\n",
       "      <td>9.6</td>\n",
       "    </tr>\n",
       "    <tr>\n",
       "      <th>2</th>\n",
       "      <td>631-41-3108</td>\n",
       "      <td>A</td>\n",
       "      <td>Yangon</td>\n",
       "      <td>Normal</td>\n",
       "      <td>Male</td>\n",
       "      <td>Home and lifestyle</td>\n",
       "      <td>46.33</td>\n",
       "      <td>7</td>\n",
       "      <td>16.2155</td>\n",
       "      <td>340.5255</td>\n",
       "      <td>3/3/2019</td>\n",
       "      <td>13:23</td>\n",
       "      <td>Credit card</td>\n",
       "      <td>324.31</td>\n",
       "      <td>4.761905</td>\n",
       "      <td>16.2155</td>\n",
       "      <td>7.4</td>\n",
       "    </tr>\n",
       "    <tr>\n",
       "      <th>3</th>\n",
       "      <td>123-19-1176</td>\n",
       "      <td>A</td>\n",
       "      <td>Yangon</td>\n",
       "      <td>Member</td>\n",
       "      <td>Male</td>\n",
       "      <td>Health and beauty</td>\n",
       "      <td>58.22</td>\n",
       "      <td>8</td>\n",
       "      <td>23.2880</td>\n",
       "      <td>489.0480</td>\n",
       "      <td>1/27/2019</td>\n",
       "      <td>20:33</td>\n",
       "      <td>Ewallet</td>\n",
       "      <td>465.76</td>\n",
       "      <td>4.761905</td>\n",
       "      <td>23.2880</td>\n",
       "      <td>8.4</td>\n",
       "    </tr>\n",
       "    <tr>\n",
       "      <th>4</th>\n",
       "      <td>373-73-7910</td>\n",
       "      <td>A</td>\n",
       "      <td>Yangon</td>\n",
       "      <td>Normal</td>\n",
       "      <td>Male</td>\n",
       "      <td>Sports and travel</td>\n",
       "      <td>86.31</td>\n",
       "      <td>7</td>\n",
       "      <td>30.2085</td>\n",
       "      <td>634.3785</td>\n",
       "      <td>2/8/2019</td>\n",
       "      <td>10:37</td>\n",
       "      <td>Ewallet</td>\n",
       "      <td>604.17</td>\n",
       "      <td>4.761905</td>\n",
       "      <td>30.2085</td>\n",
       "      <td>5.3</td>\n",
       "    </tr>\n",
       "    <tr>\n",
       "      <th>...</th>\n",
       "      <td>...</td>\n",
       "      <td>...</td>\n",
       "      <td>...</td>\n",
       "      <td>...</td>\n",
       "      <td>...</td>\n",
       "      <td>...</td>\n",
       "      <td>...</td>\n",
       "      <td>...</td>\n",
       "      <td>...</td>\n",
       "      <td>...</td>\n",
       "      <td>...</td>\n",
       "      <td>...</td>\n",
       "      <td>...</td>\n",
       "      <td>...</td>\n",
       "      <td>...</td>\n",
       "      <td>...</td>\n",
       "      <td>...</td>\n",
       "    </tr>\n",
       "    <tr>\n",
       "      <th>95</th>\n",
       "      <td>594-34-4444</td>\n",
       "      <td>A</td>\n",
       "      <td>Yangon</td>\n",
       "      <td>Normal</td>\n",
       "      <td>Male</td>\n",
       "      <td>Electronic accessories</td>\n",
       "      <td>97.16</td>\n",
       "      <td>1</td>\n",
       "      <td>4.8580</td>\n",
       "      <td>102.0180</td>\n",
       "      <td>3/8/2019</td>\n",
       "      <td>20:38</td>\n",
       "      <td>Ewallet</td>\n",
       "      <td>97.16</td>\n",
       "      <td>4.761905</td>\n",
       "      <td>4.8580</td>\n",
       "      <td>7.2</td>\n",
       "    </tr>\n",
       "    <tr>\n",
       "      <th>96</th>\n",
       "      <td>766-85-7061</td>\n",
       "      <td>B</td>\n",
       "      <td>Mandalay</td>\n",
       "      <td>Normal</td>\n",
       "      <td>Male</td>\n",
       "      <td>Health and beauty</td>\n",
       "      <td>87.87</td>\n",
       "      <td>10</td>\n",
       "      <td>43.9350</td>\n",
       "      <td>922.6350</td>\n",
       "      <td>3/29/2019</td>\n",
       "      <td>10:25</td>\n",
       "      <td>Ewallet</td>\n",
       "      <td>878.70</td>\n",
       "      <td>4.761905</td>\n",
       "      <td>43.9350</td>\n",
       "      <td>5.1</td>\n",
       "    </tr>\n",
       "    <tr>\n",
       "      <th>97</th>\n",
       "      <td>871-39-9221</td>\n",
       "      <td>C</td>\n",
       "      <td>Naypyitaw</td>\n",
       "      <td>Normal</td>\n",
       "      <td>Female</td>\n",
       "      <td>Electronic accessories</td>\n",
       "      <td>12.45</td>\n",
       "      <td>6</td>\n",
       "      <td>3.7350</td>\n",
       "      <td>78.4350</td>\n",
       "      <td>2/9/2019</td>\n",
       "      <td>13:11</td>\n",
       "      <td>Cash</td>\n",
       "      <td>74.70</td>\n",
       "      <td>4.761905</td>\n",
       "      <td>3.7350</td>\n",
       "      <td>4.1</td>\n",
       "    </tr>\n",
       "    <tr>\n",
       "      <th>98</th>\n",
       "      <td>865-92-6136</td>\n",
       "      <td>A</td>\n",
       "      <td>Yangon</td>\n",
       "      <td>Normal</td>\n",
       "      <td>Male</td>\n",
       "      <td>Food and beverages</td>\n",
       "      <td>52.75</td>\n",
       "      <td>3</td>\n",
       "      <td>7.9125</td>\n",
       "      <td>166.1625</td>\n",
       "      <td>3/23/2019</td>\n",
       "      <td>10:16</td>\n",
       "      <td>Ewallet</td>\n",
       "      <td>158.25</td>\n",
       "      <td>4.761905</td>\n",
       "      <td>7.9125</td>\n",
       "      <td>9.3</td>\n",
       "    </tr>\n",
       "    <tr>\n",
       "      <th>99</th>\n",
       "      <td>733-01-9107</td>\n",
       "      <td>B</td>\n",
       "      <td>Mandalay</td>\n",
       "      <td>Normal</td>\n",
       "      <td>Male</td>\n",
       "      <td>Home and lifestyle</td>\n",
       "      <td>82.70</td>\n",
       "      <td>6</td>\n",
       "      <td>24.8100</td>\n",
       "      <td>521.0100</td>\n",
       "      <td>3/5/2019</td>\n",
       "      <td>18:14</td>\n",
       "      <td>Cash</td>\n",
       "      <td>496.20</td>\n",
       "      <td>4.761905</td>\n",
       "      <td>24.8100</td>\n",
       "      <td>7.4</td>\n",
       "    </tr>\n",
       "  </tbody>\n",
       "</table>\n",
       "<p>100 rows × 17 columns</p>\n",
       "</div>"
      ],
      "text/plain": [
       "     Invoice ID Branch       City Customer type  Gender  \\\n",
       "0   750-67-8428      A     Yangon        Member  Female   \n",
       "1   226-31-3081      C  Naypyitaw        Normal  Female   \n",
       "2   631-41-3108      A     Yangon        Normal    Male   \n",
       "3   123-19-1176      A     Yangon        Member    Male   \n",
       "4   373-73-7910      A     Yangon        Normal    Male   \n",
       "..          ...    ...        ...           ...     ...   \n",
       "95  594-34-4444      A     Yangon        Normal    Male   \n",
       "96  766-85-7061      B   Mandalay        Normal    Male   \n",
       "97  871-39-9221      C  Naypyitaw        Normal  Female   \n",
       "98  865-92-6136      A     Yangon        Normal    Male   \n",
       "99  733-01-9107      B   Mandalay        Normal    Male   \n",
       "\n",
       "              Product line  Unit price  Quantity   Tax 5%     Total  \\\n",
       "0        Health and beauty       74.69         7  26.1415  548.9715   \n",
       "1   Electronic accessories       15.28         5   3.8200   80.2200   \n",
       "2       Home and lifestyle       46.33         7  16.2155  340.5255   \n",
       "3        Health and beauty       58.22         8  23.2880  489.0480   \n",
       "4        Sports and travel       86.31         7  30.2085  634.3785   \n",
       "..                     ...         ...       ...      ...       ...   \n",
       "95  Electronic accessories       97.16         1   4.8580  102.0180   \n",
       "96       Health and beauty       87.87        10  43.9350  922.6350   \n",
       "97  Electronic accessories       12.45         6   3.7350   78.4350   \n",
       "98      Food and beverages       52.75         3   7.9125  166.1625   \n",
       "99      Home and lifestyle       82.70         6  24.8100  521.0100   \n",
       "\n",
       "         Date   Time      Payment    cogs  gross margin percentage  \\\n",
       "0    1/5/2019  13:08      Ewallet  522.83                 4.761905   \n",
       "1    3/8/2019  10:29         Cash   76.40                 4.761905   \n",
       "2    3/3/2019  13:23  Credit card  324.31                 4.761905   \n",
       "3   1/27/2019  20:33      Ewallet  465.76                 4.761905   \n",
       "4    2/8/2019  10:37      Ewallet  604.17                 4.761905   \n",
       "..        ...    ...          ...     ...                      ...   \n",
       "95   3/8/2019  20:38      Ewallet   97.16                 4.761905   \n",
       "96  3/29/2019  10:25      Ewallet  878.70                 4.761905   \n",
       "97   2/9/2019  13:11         Cash   74.70                 4.761905   \n",
       "98  3/23/2019  10:16      Ewallet  158.25                 4.761905   \n",
       "99   3/5/2019  18:14         Cash  496.20                 4.761905   \n",
       "\n",
       "    gross income  Rating  \n",
       "0        26.1415     9.1  \n",
       "1         3.8200     9.6  \n",
       "2        16.2155     7.4  \n",
       "3        23.2880     8.4  \n",
       "4        30.2085     5.3  \n",
       "..           ...     ...  \n",
       "95        4.8580     7.2  \n",
       "96       43.9350     5.1  \n",
       "97        3.7350     4.1  \n",
       "98        7.9125     9.3  \n",
       "99       24.8100     7.4  \n",
       "\n",
       "[100 rows x 17 columns]"
      ]
     },
     "execution_count": 27,
     "metadata": {},
     "output_type": "execute_result"
    }
   ],
   "source": [
    "pd.read_csv(data_path, nrows=100)"
   ]
  },
  {
   "cell_type": "markdown",
   "metadata": {
    "id": "ksL_sc3RwPIe"
   },
   "source": [
    "**Перше домашнє завдання із Pandas виконано! 🚀✔️**"
   ]
  }
 ],
 "metadata": {
  "colab": {
   "provenance": []
  },
  "kernelspec": {
   "display_name": "Python 3 (ipykernel)",
   "language": "python",
   "name": "python3"
  },
  "language_info": {
   "codemirror_mode": {
    "name": "ipython",
    "version": 3
   },
   "file_extension": ".py",
   "mimetype": "text/x-python",
   "name": "python",
   "nbconvert_exporter": "python",
   "pygments_lexer": "ipython3",
   "version": "3.9.6"
  }
 },
 "nbformat": 4,
 "nbformat_minor": 4
}
