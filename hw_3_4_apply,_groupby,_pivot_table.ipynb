{
 "cells": [
  {
   "cell_type": "markdown",
   "metadata": {
    "id": "LwNpAFw_eTF3"
   },
   "source": [
    "#Домашнє завдання до тем apply(), groupby(), pivot_table()"
   ]
  },
  {
   "cell_type": "markdown",
   "metadata": {
    "id": "vP2PEJyq8Yrj"
   },
   "source": [
    "В цьому домашньому завданні продовжуємо працювати з набором даних `supermarket_sales.csv`."
   ]
  },
  {
   "cell_type": "markdown",
   "metadata": {
    "id": "dh9lfpDb8gBL"
   },
   "source": [
    "0. Імпортуйте бібліотеку pandas та зчитайте дані у змінну `df` типу `pandas.DataFrame`."
   ]
  },
  {
   "cell_type": "code",
   "execution_count": 6,
   "metadata": {
    "id": "xBI9gJMK8qnl"
   },
   "outputs": [],
   "source": [
    "import pandas as pd"
   ]
  },
  {
   "cell_type": "code",
   "execution_count": 8,
   "metadata": {},
   "outputs": [],
   "source": [
    "data_path = '../data/supermarket_sales.csv'\n",
    "df = pd.read_csv(data_path)"
   ]
  },
  {
   "cell_type": "code",
   "execution_count": 5,
   "metadata": {},
   "outputs": [
    {
     "data": {
      "text/plain": [
       "pandas.core.frame.DataFrame"
      ]
     },
     "execution_count": 5,
     "metadata": {},
     "output_type": "execute_result"
    }
   ],
   "source": [
    "type(df)"
   ]
  },
  {
   "cell_type": "markdown",
   "metadata": {
    "id": "28638363"
   },
   "source": [
    "1. Дослідимо, який філіал супермаркету ('Branch') є найприбутковішим. Для цього знайдіть сумарний прибуток за кожним філіалом і виявіть, який філіал має найвищий."
   ]
  },
  {
   "cell_type": "code",
   "execution_count": 9,
   "metadata": {
    "ExecuteTime": {
     "end_time": "2022-11-01T17:27:42.023877Z",
     "start_time": "2022-11-01T17:27:42.020277Z"
    },
    "id": "916d731d"
   },
   "outputs": [],
   "source": [
    "total_gross_income_by_branch = df.groupby('Branch')['gross income'].sum()\n"
   ]
  },
  {
   "cell_type": "code",
   "execution_count": 10,
   "metadata": {},
   "outputs": [
    {
     "data": {
      "text/plain": [
       "Branch\n",
       "A    5057.1605\n",
       "B    5057.0320\n",
       "C    5265.1765\n",
       "Name: gross income, dtype: float64"
      ]
     },
     "execution_count": 10,
     "metadata": {},
     "output_type": "execute_result"
    }
   ],
   "source": [
    "total_gross_income_by_branch"
   ]
  },
  {
   "cell_type": "code",
   "execution_count": 11,
   "metadata": {},
   "outputs": [
    {
     "data": {
      "text/plain": [
       "'C'"
      ]
     },
     "execution_count": 11,
     "metadata": {},
     "output_type": "execute_result"
    }
   ],
   "source": [
    "most_profitable_branch_name = total_gross_income_by_branch.idxmax()\n",
    "most_profitable_branch_name"
   ]
  },
  {
   "cell_type": "markdown",
   "metadata": {
    "id": "2qL_OddUCZKK"
   },
   "source": [
    "2. В якому місті знайходиться філіал з найвищим прибутком? Може в тому місці нам розмітисти ще один магазин.  \n",
    "Знайдіть відповідь за допомогою функціоналу Pandas."
   ]
  },
  {
   "cell_type": "code",
   "execution_count": 19,
   "metadata": {
    "id": "bBJUc1dWCwdi"
   },
   "outputs": [],
   "source": [
    "most_profitable_branch_name = total_gross_income_by_branch.idxmax()"
   ]
  },
  {
   "cell_type": "code",
   "execution_count": 21,
   "metadata": {},
   "outputs": [
    {
     "name": "stdout",
     "output_type": "stream",
     "text": [
      "Найприбутковіший філіал: C\n",
      "Місто, де він розташований: Naypyitaw\n"
     ]
    }
   ],
   "source": [
    "branch_city = df[['Branch', 'City']].drop_duplicates()\n",
    "city_of_top_branch = branch_city[branch_city['Branch'] == most_profitable_branch_name]['City'].values[0]\n",
    "\n",
    "print(f\"Найприбутковіший філіал: {most_profitable_branch_name}\")\n",
    "print(f\"Місто, де він розташований: {city_of_top_branch}\")"
   ]
  },
  {
   "cell_type": "markdown",
   "metadata": {
    "id": "6dec795f"
   },
   "source": [
    "3.1. Створіть зводну таблицю, яка покаже, скільки покупок (інвойсів) було зроблено в кожній з філій (`Branch`) за різними категоріями товарів. Запишіть таблицю в змінну `invoices_by_category` і виведіть змінну на екран.\n",
    "Ця таблиця допоможе проаналізувати, в якій філії купують найбільше товарів кожної з категорій."
   ]
  },
  {
   "cell_type": "code",
   "execution_count": 49,
   "metadata": {
    "id": "N7TfUBf4ZrkX"
   },
   "outputs": [
    {
     "data": {
      "text/html": [
       "<div>\n",
       "<style scoped>\n",
       "    .dataframe tbody tr th:only-of-type {\n",
       "        vertical-align: middle;\n",
       "    }\n",
       "\n",
       "    .dataframe tbody tr th {\n",
       "        vertical-align: top;\n",
       "    }\n",
       "\n",
       "    .dataframe thead th {\n",
       "        text-align: right;\n",
       "    }\n",
       "</style>\n",
       "<table border=\"1\" class=\"dataframe\">\n",
       "  <thead>\n",
       "    <tr style=\"text-align: right;\">\n",
       "      <th>Product line</th>\n",
       "      <th>Electronic accessories</th>\n",
       "      <th>Fashion accessories</th>\n",
       "      <th>Food and beverages</th>\n",
       "      <th>Health and beauty</th>\n",
       "      <th>Home and lifestyle</th>\n",
       "      <th>Sports and travel</th>\n",
       "    </tr>\n",
       "    <tr>\n",
       "      <th>Branch</th>\n",
       "      <th></th>\n",
       "      <th></th>\n",
       "      <th></th>\n",
       "      <th></th>\n",
       "      <th></th>\n",
       "      <th></th>\n",
       "    </tr>\n",
       "  </thead>\n",
       "  <tbody>\n",
       "    <tr>\n",
       "      <th>A</th>\n",
       "      <td>60</td>\n",
       "      <td>51</td>\n",
       "      <td>58</td>\n",
       "      <td>47</td>\n",
       "      <td>65</td>\n",
       "      <td>59</td>\n",
       "    </tr>\n",
       "    <tr>\n",
       "      <th>B</th>\n",
       "      <td>55</td>\n",
       "      <td>62</td>\n",
       "      <td>50</td>\n",
       "      <td>53</td>\n",
       "      <td>50</td>\n",
       "      <td>62</td>\n",
       "    </tr>\n",
       "    <tr>\n",
       "      <th>C</th>\n",
       "      <td>55</td>\n",
       "      <td>65</td>\n",
       "      <td>66</td>\n",
       "      <td>52</td>\n",
       "      <td>45</td>\n",
       "      <td>45</td>\n",
       "    </tr>\n",
       "  </tbody>\n",
       "</table>\n",
       "</div>"
      ],
      "text/plain": [
       "Product line  Electronic accessories  Fashion accessories  Food and beverages  \\\n",
       "Branch                                                                          \n",
       "A                                 60                   51                  58   \n",
       "B                                 55                   62                  50   \n",
       "C                                 55                   65                  66   \n",
       "\n",
       "Product line  Health and beauty  Home and lifestyle  Sports and travel  \n",
       "Branch                                                                  \n",
       "A                            47                  65                 59  \n",
       "B                            53                  50                 62  \n",
       "C                            52                  45                 45  "
      ]
     },
     "execution_count": 49,
     "metadata": {},
     "output_type": "execute_result"
    }
   ],
   "source": [
    "invoices_by_category = pd.pivot_table (df, index = 'Branch', columns = 'Product line', values = 'Invoice ID', aggfunc = \"count\")\n",
    "invoices_by_category"
   ]
  },
  {
   "cell_type": "markdown",
   "metadata": {
    "ExecuteTime": {
     "end_time": "2022-11-01T16:50:46.961201Z",
     "start_time": "2022-11-01T16:50:46.955894Z"
    },
    "id": "f5bbfa34"
   },
   "source": [
    "Очікуваний результат:"
   ]
  },
  {
   "cell_type": "markdown",
   "metadata": {
    "id": "34b9bcdc"
   },
   "source": [
    "![](https://drive.google.com/uc?export=view&id=1rueAdko6S3UxIHGtojetTxlES-EyM6Yb)"
   ]
  },
  {
   "cell_type": "markdown",
   "metadata": {
    "id": "woygDEA0OSwJ"
   },
   "source": [
    "3.2. Викристовуючи змінну `invoices_by_category` дайте відповідь програмно (тобто значення треба не просто знайти очима, а вивести за допомогою коду), в якому філіалі магазину (`Branch`) найбільше інвойсів із покупкою товарів категорії \"Електронні аксесуари\" (`Electronic accessories`)?\n"
   ]
  },
  {
   "cell_type": "code",
   "execution_count": 50,
   "metadata": {
    "id": "B5x8kTE-Qcq8"
   },
   "outputs": [
    {
     "name": "stdout",
     "output_type": "stream",
     "text": [
      "Філіал з найбільшим продажем Electronic accessories: A\n"
     ]
    }
   ],
   "source": [
    "top_branch = invoices_by_category['Electronic accessories'].idxmax()\n",
    "print(\"Філіал з найбільшим продажем Electronic accessories:\", top_branch)"
   ]
  },
  {
   "cell_type": "markdown",
   "metadata": {
    "ExecuteTime": {
     "end_time": "2022-11-01T17:56:02.981755Z",
     "start_time": "2022-11-01T17:56:02.977086Z"
    },
    "id": "d005a2b8"
   },
   "source": [
    "4-6. **Творче завдання на розвиток аналітичного мислення**\n",
    "\n",
    "Крок 1. Сформулюйте ТРИ питання (гіпотези) до наявних даних, які допомогли б вам зрозуміти, які користувачі що, де та коли найбільше/найменше купують, аби дати на основі цих гіпотез рекомендації бізнесу. Звісно питання мають бути не тими, на які ми вже відповіли в завданнях модулю.\n",
    "\n",
    "Крок 2. Знайдіть відповіді на свої питання з допомогою функціоналу pandas.\n",
    "\n",
    "Крок 3. Напишіть, як відповідь на це питання може бути використана для прийняття бізнес рішень.   \n",
    "   \n",
    " Питання можуть бути будь-якої складності, але їх має бути 3. Кожне питання оцінюється як 1 завдання. Без виконання цього завдання ДЗ не приймається. Якщо є питання щодо виконання - пишіть у чат 🙌\n"
   ]
  },
  {
   "cell_type": "markdown",
   "metadata": {},
   "source": [
    "## Гіпотеза №1\n",
    "\n",
    "### 📌 Питання:\n",
    "**Яка категорія товарів є найпопулярнішою серед різних типів клієнтів (`Customer type`)?**\n",
    "\n",
    "### 🎯 Мета:\n",
    "Зрозуміти, які товарні категорії (`Product line`) частіше купують **постійні клієнти** та **нові клієнти**. Це допоможе:\n",
    "- розробити **спеціальні акції** для різних типів клієнтів;\n",
    "- краще **таргетувати рекламні кампанії**;\n",
    "- зрозуміти, що цікавіше певній аудиторії."
   ]
  },
  {
   "cell_type": "code",
   "execution_count": 51,
   "metadata": {
    "id": "cM3cApWSZuRX"
   },
   "outputs": [
    {
     "name": "stdout",
     "output_type": "stream",
     "text": [
      "   Customer type            Product line  Invoice ID\n",
      "2         Member      Food and beverages          94\n",
      "5         Member       Sports and travel          87\n",
      "1         Member     Fashion accessories          86\n",
      "4         Member      Home and lifestyle          83\n",
      "0         Member  Electronic accessories          78\n",
      "3         Member       Health and beauty          73\n",
      "6         Normal  Electronic accessories          92\n",
      "7         Normal     Fashion accessories          92\n",
      "8         Normal      Food and beverages          80\n",
      "9         Normal       Health and beauty          79\n",
      "11        Normal       Sports and travel          79\n",
      "10        Normal      Home and lifestyle          77\n"
     ]
    }
   ],
   "source": [
    "# Групуємо по Customer type і Product line та рахуємо кількість покупок\n",
    "popular_by_customer = df.groupby(['Customer type', 'Product line'])['Invoice ID'].count().reset_index()\n",
    "\n",
    "# Сортуємо для наочності\n",
    "popular_by_customer = popular_by_customer.sort_values(['Customer type', 'Invoice ID'], ascending=[True, False])\n",
    "\n",
    "print(popular_by_customer)\n"
   ]
  },
  {
   "cell_type": "markdown",
   "metadata": {},
   "source": [
    "## Висновки за гіпотезою №1:  \n",
    "### Популярність товарних категорій серед різних типів клієнтів\n",
    "\n",
    "---\n",
    "\n",
    "### ✅ Для постійних клієнтів (**Member**):\n",
    "- Найпопулярніша категорія — **Food and beverages** (94 покупки).\n",
    "- Інші популярні категорії:\n",
    "  - **Sports and travel** — 87 покупок\n",
    "  - **Fashion accessories** — 86 покупок\n",
    "- Найменш популярна категорія — **Health and beauty** (73 покупки).\n",
    "\n",
    "**➡️ Висновок:** постійні клієнти віддають перевагу продуктам харчування та товарам для спорту і відпочинку.  \n",
    "**🎁 Рекомендація:** ефективно пропонувати **акції на продукти та спорттовари**, щоб підвищувати лояльність постійних покупців.\n",
    "\n",
    "---\n",
    "\n",
    "### ✅ Для нових клієнтів (**Normal**):\n",
    "- Дві найпопулярніші категорії:\n",
    "  - **Electronic accessories** — 92 покупки\n",
    "  - **Fashion accessories** — 92 покупки\n",
    "- Далі за популярністю:\n",
    "  - **Food and beverages** — 80 покупок\n",
    "- Найменш популярні категорії:\n",
    "  - **Home and lifestyle** — 77 покупок\n",
    "  - **Sports and travel** та **Health and beauty** — по 79 покупок.\n",
    "\n",
    "**➡️ Висновок:** нові клієнти більше цікавляться електронікою та модними товарами.  \n",
    "**🎁 Рекомендація:** варто робити **рекламні акції на електроніку та аксесуари** для залучення нових клієнтів і стимулювання їхніх перших покупок.\n",
    "\n",
    "---\n",
    "\n",
    "### 📌 Загальні рекомендації для бізнесу:\n",
    "- Для **постійних клієнтів** — пропонувати бонуси на **їжу, спорттовари та товари для дому**.\n",
    "- Для **нових клієнтів** — акцентувати увагу на **електроніці та модних аксесуарах**.\n",
    "- **Маркетингові кампанії** можна адаптувати під тип клієнта для підвищення ефективності продажів.\n"
   ]
  },
  {
   "cell_type": "markdown",
   "metadata": {},
   "source": [
    "## Гіпотеза №2  \n",
    "### Чи є різниця в середньому чеку між чоловіками та жінками в різних містах?\n",
    "\n",
    "---\n",
    "\n",
    "### 🎯 Практична користь для бізнесу:\n",
    "\n",
    "- **💡 Краще розуміння поведінки клієнтів:**\n",
    "    - Аналіз покаже, **хто витрачає більше — чоловіки чи жінки — в різних містах**.\n",
    "    - Бізнес може точніше сегментувати аудиторію **за статтю та місцем проживання**.\n",
    "\n",
    "- **🎁 Персоналізація маркетингу:**\n",
    "    - Наприклад:\n",
    "        - якщо у місті **Yangon** жінки витрачають більше → **запустити акції для жінок**.\n",
    "        - якщо у **Mandalay** чоловіки залишають більші суми → **просувати товари для чоловіків**.\n",
    "    - Це допоможе **підвищити середній чек** та залучити більше покупок.\n",
    "\n",
    "- **📦 Оптимізація асортименту:**\n",
    "    - У містах з вищим середнім чеком серед чоловіків можна збільшити пропозицію товарів типу:\n",
    "        - електроніка, спорт, аксесуари.\n",
    "    - Для міст з високим середнім чеком серед жінок — зробити акцент на:\n",
    "        - мода, товари для дому, краса, подорожі.\n",
    "\n",
    "- **📊 Прогнозування доходів:**\n",
    "    - Дає можливість **краще планувати виручку по містах і статевих групах клієнтів**, а також **ефективніше розподіляти маркетинговий бюджет**.\n"
   ]
  },
  {
   "cell_type": "code",
   "execution_count": 57,
   "metadata": {},
   "outputs": [],
   "source": [
    "avg_check_by_gender_city = df.groupby(['City', 'Gender'])['Total'].mean().reset_index().round(2)\n"
   ]
  },
  {
   "cell_type": "code",
   "execution_count": 58,
   "metadata": {},
   "outputs": [
    {
     "data": {
      "text/html": [
       "<div>\n",
       "<style scoped>\n",
       "    .dataframe tbody tr th:only-of-type {\n",
       "        vertical-align: middle;\n",
       "    }\n",
       "\n",
       "    .dataframe tbody tr th {\n",
       "        vertical-align: top;\n",
       "    }\n",
       "\n",
       "    .dataframe thead th {\n",
       "        text-align: right;\n",
       "    }\n",
       "</style>\n",
       "<table border=\"1\" class=\"dataframe\">\n",
       "  <thead>\n",
       "    <tr style=\"text-align: right;\">\n",
       "      <th></th>\n",
       "      <th>City</th>\n",
       "      <th>Gender</th>\n",
       "      <th>Total</th>\n",
       "    </tr>\n",
       "  </thead>\n",
       "  <tbody>\n",
       "    <tr>\n",
       "      <th>0</th>\n",
       "      <td>Mandalay</td>\n",
       "      <td>Female</td>\n",
       "      <td>326.72</td>\n",
       "    </tr>\n",
       "    <tr>\n",
       "      <th>1</th>\n",
       "      <td>Mandalay</td>\n",
       "      <td>Male</td>\n",
       "      <td>313.35</td>\n",
       "    </tr>\n",
       "    <tr>\n",
       "      <th>2</th>\n",
       "      <td>Naypyitaw</td>\n",
       "      <td>Female</td>\n",
       "      <td>346.55</td>\n",
       "    </tr>\n",
       "    <tr>\n",
       "      <th>3</th>\n",
       "      <td>Naypyitaw</td>\n",
       "      <td>Male</td>\n",
       "      <td>325.89</td>\n",
       "    </tr>\n",
       "    <tr>\n",
       "      <th>4</th>\n",
       "      <td>Yangon</td>\n",
       "      <td>Female</td>\n",
       "      <td>330.86</td>\n",
       "    </tr>\n",
       "    <tr>\n",
       "      <th>5</th>\n",
       "      <td>Yangon</td>\n",
       "      <td>Male</td>\n",
       "      <td>295.71</td>\n",
       "    </tr>\n",
       "  </tbody>\n",
       "</table>\n",
       "</div>"
      ],
      "text/plain": [
       "        City  Gender   Total\n",
       "0   Mandalay  Female  326.72\n",
       "1   Mandalay    Male  313.35\n",
       "2  Naypyitaw  Female  346.55\n",
       "3  Naypyitaw    Male  325.89\n",
       "4     Yangon  Female  330.86\n",
       "5     Yangon    Male  295.71"
      ]
     },
     "execution_count": 58,
     "metadata": {},
     "output_type": "execute_result"
    }
   ],
   "source": [
    "avg_check_by_gender_city"
   ]
  },
  {
   "cell_type": "markdown",
   "metadata": {},
   "source": [
    "## Висновки за гіпотезою №2  \n",
    "### Середній чек серед чоловіків і жінок у різних містах\n",
    "\n",
    "---\n",
    "\n",
    "### ✅ Що ми бачимо з даних:\n",
    "\n",
    "- **У Mandalay:**\n",
    "  - Жінки витрачають більше (**326.72**) ніж чоловіки (**313.35**).\n",
    "\n",
    "- **У Naypyitaw:**\n",
    "  - Жінки мають найбільший середній чек (**346.55**) серед усіх груп.\n",
    "  - Чоловіки витрачають трохи менше (**325.89**).\n",
    "\n",
    "- **У Yangon:**\n",
    "  - Жінки також витрачають більше (**330.86**) ніж чоловіки (**295.71**).\n",
    "\n",
    "---\n",
    "\n",
    "### 📌 Висновки:\n",
    "\n",
    "- У **всіх містах жінки витрачають більше** ніж чоловіки.\n",
    "- Найбільше витрачають жінки у місті **Naypyitaw**.\n",
    "- Чоловіки в місті **Yangon** мають найменший середній чек.\n",
    "\n",
    "---\n",
    "\n",
    "### 🎁 Рекомендації для бізнесу:\n",
    "\n",
    "- У Naypyitaw і Yangon варто більше орієнтуватися на **жіночу аудиторію** — більше акцій, товарів та пропозицій для жінок.\n",
    "- Для чоловіків у Yangon можна робити **спеціальні акції**, щоб підвищити середній чек.\n"
   ]
  },
  {
   "cell_type": "markdown",
   "metadata": {},
   "source": [
    "---\n",
    "## Гіпотеза №3: Коли найбільше продажів впродовж дня?\n",
    "\n",
    "Цей аналіз дозволяє визначити **години пікової торгової активності** супермаркету. Розуміння того, коли саме відбувається найбільша кількість продажів, є критично важливим для операційної ефективності.\n",
    "\n",
    "Ця інформація може бути корисною для:\n",
    "\n",
    "* **Оптимізації розкладу персоналу:** Забезпечення достатньої кількості касирів та консультантів у години пік, щоб уникнути черг та покращити обслуговування клієнтів.\n",
    "* **Організації акцій та спеціальних пропозицій:** Запуск маркетингових кампаній або \"щасливих годин\" саме тоді, коли потік клієнтів найбільший, щоб максимізувати їхню ефективність.\n",
    "* **Управління запасами:** Забезпечення наявності найпопулярніших товарів на полицях під час підвищеного попиту.\n",
    "\n",
    "**Висновок:** Аналізуючи дані про продажі за годинами дня, ми можемо виявити найбільш завантажені періоди, що дозволить бізнесу приймати обґрунтовані рішення для підвищення прибутковості та задоволеності клієнтів.\n",
    "\n",
    "---"
   ]
  },
  {
   "cell_type": "code",
   "execution_count": 60,
   "metadata": {},
   "outputs": [
    {
     "name": "stdout",
     "output_type": "stream",
     "text": [
      "Hour_of_Day\n",
      "10    31421.4810\n",
      "11    30377.3295\n",
      "12    26065.8825\n",
      "13    34723.2270\n",
      "14    30828.3990\n",
      "15    31179.5085\n",
      "16    25226.3235\n",
      "17    24445.2180\n",
      "18    26030.3400\n",
      "19    39699.5130\n",
      "20    22969.5270\n",
      "Name: Total, dtype: float64\n"
     ]
    }
   ],
   "source": [
    "df['Time'] = pd.to_datetime(df['Time'], format='%H:%M')\n",
    "df['Hour_of_Day'] = df['Time'].dt.hour\n",
    "total_sales_by_hour = df.groupby('Hour_of_Day')['Total'].sum()\n",
    "peak_sales_hour = total_sales_by_hour.idxmax()\n",
    "peak_sales_amount = total_sales_by_hour.max()\n",
    "print(total_sales_by_hour.sort_index())"
   ]
  },
  {
   "cell_type": "markdown",
   "metadata": {},
   "source": [
    "---\n",
    "---\n",
    "## Висновки з даних про продажі за годинами дня\n",
    "\n",
    "З отриманих даних видно, що найбільше продажів зосереджено у певні періоди протягом дня:\n",
    "\n",
    "* **Ранковий пік (перед обідом):** Є помітний пік близько **10:00 (31421.48)**, а також сильні продажі до обіду.\n",
    "* **Денний пік (після обіду):** Продажі зростають о **13:00 (34723.23)**, що може свідчити про активність у час обідньої перерви.\n",
    "* **Вечірній пік (виражений):** Найвищий пік продажів спостерігається о **19:00 (39699.51)**. Це чітко вказує на те, що вечірні години після робочого дня є найактивнішим часом для покупок.\n",
    "* **Спад продажів:** Продажі помітно знижуються після 19:00, а також є зниження у другій половині дня (16:00-18:00) перед вечірнім піком.\n",
    "\n",
    "---\n",
    "## Рекомендації бізнесу\n",
    "\n",
    "На основі цих висновків можна надати такі рекомендації:\n",
    "\n",
    "1.  **Оптимізація персоналу у вечірні години:**\n",
    "    * **Рекомендація:** Максимально збільште кількість персоналу (касирів, консультантів, працівників на викладці товару) з **18:00 до 20:00**. Це дозволить ефективно обслуговувати найвищий потік клієнтів, зменшити черги та покращити клієнтський досвід.\n",
    "    * **Обґрунтування:** Година 19:00 є абсолютною піковою точкою продажів. Достатня кількість працівників у цей час є ключовою для збереження високої задоволеності клієнтів та максимізації кількості оброблених транзакцій.\n",
    "\n",
    "2.  **Цілеспрямовані маркетингові акції та промоції:**\n",
    "    * **Рекомендація:** Розгляньте можливість проведення \"щасливих годин\" або спеціальних акцій у період з **13:00 до 14:00**, а також акцентуйте рекламні кампанії на період з **17:00 до 19:00**.\n",
    "    * **Обґрунтування:** Ці години вже показують високу активність. Додаткові стимули у пікові та передпікові години можуть ще більше збільшити обсяги продажів. Можна також спробувати стимулювати продажі у години спаду (наприклад, 16:00-18:00), пропонуючи невеликі знижки або спеціальні пропозиції, щоб вирівняти потік клієнтів.\n",
    "\n",
    "3.  **Управління запасами та свіжістю товарів:**\n",
    "    * **Рекомендація:** Забезпечте повне поповнення полиць і наявність свіжих товарів (особливо в категоріях з високим попитом, якщо вони відомі) до **ранкового піку (близько 10:00)**, **обіднього піку (до 13:00)** і обов'язково перед **вечірнім піком (до 18:00)**.\n",
    "    * **Обґрунтування:** Наявність товару є фундаментальною для здійснення продажу. У пікові години клієнти очікують, що всі необхідні їм товари будуть наявні.\n",
    "\n",
    "4.  **Аналіз завантаженості в години спаду:**\n",
    "    * **Рекомендація:** Розгляньте можливість проведення рутинних завдань (наприклад, прийом товару, прибирання, перевірка термінів придатності) у години з меншою активністю клієнтів, наприклад, після **20:00** або у періоди незначного спаду.\n",
    "    * **Обґрунтування:** Це дозволить персоналу зосередитися на продажах та обслуговуванні клієнтів у години пік, не відволікаючись на інші завдання.\n",
    "\n",
    "Ці рекомендації, засновані на фактичних даних про продажі, допоможуть супермаркету більш ефективно використовувати свої ресурси та максимізувати прибуток."
   ]
  }
 ],
 "metadata": {
  "colab": {
   "provenance": []
  },
  "kernelspec": {
   "display_name": "Python 3 (ipykernel)",
   "language": "python",
   "name": "python3"
  },
  "language_info": {
   "codemirror_mode": {
    "name": "ipython",
    "version": 3
   },
   "file_extension": ".py",
   "mimetype": "text/x-python",
   "name": "python",
   "nbconvert_exporter": "python",
   "pygments_lexer": "ipython3",
   "version": "3.9.6"
  }
 },
 "nbformat": 4,
 "nbformat_minor": 4
}
